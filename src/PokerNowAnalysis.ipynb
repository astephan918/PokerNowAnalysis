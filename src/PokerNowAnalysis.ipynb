{
 "cells": [
  {
   "cell_type": "code",
   "execution_count": null,
   "metadata": {},
   "outputs": [],
   "source": [
    "from IPython.display import HTML\n",
    "\n",
    "HTML('''<script>\n",
    "code_show=true; \n",
    "function code_toggle() {\n",
    " if (code_show){\n",
    " $('div.input').hide();\n",
    " } else {\n",
    " $('div.input').show();\n",
    " }\n",
    " code_show = !code_show\n",
    "} \n",
    "$( document ).ready(code_toggle);\n",
    "</script>\n",
    "<form action=\"javascript:code_toggle()\"><input type=\"submit\" value=\"Click here to see the raw code.\"></form>''')"
   ]
  },
  {
   "cell_type": "code",
   "execution_count": null,
   "metadata": {
    "hide_input": true,
    "pycharm": {
     "name": "#%%\n"
    }
   },
   "outputs": [],
   "source": [
    "\n",
    "import pandas\n",
    "from pandas import DataFrame\n",
    "import re\n",
    "import io\n",
    "from ipywidgets import FileUpload\n",
    "\n",
    "upload = FileUpload(accept='.csv', multiple=False)\n",
    "upload"
   ]
  },
  {
   "cell_type": "code",
   "execution_count": null,
   "metadata": {
    "pycharm": {
     "name": "#%%\n"
    }
   },
   "outputs": [],
   "source": [
    "# Load CSV of Poker Now events\n",
    "if len(upload.data) > 0:\n",
    "    poker_log: DataFrame = pandas.read_csv(io.BytesIO(upload.data[-1]))\n",
    "else:\n",
    "    poker_log: DataFrame = pandas.read_csv('../data/poker_now_log_sample.csv')\n",
    "    \n",
    "poker_log.drop(columns='order', inplace=True)\n",
    "# Reverse events so timestamps are in ascending order\n",
    "poker_log = poker_log[::-1]\n",
    "poker_log.reset_index(drop=True, inplace=True)\n",
    "\n",
    "poker_log = poker_log.assign(hand_number=0, street='')\n",
    "\n",
    "starting_hand_rxp = re.compile(\"-- starting hand #(.*)  \\(No Limit Texas Hold'em\\) \\((.*)\\) --\")\n",
    "\n",
    "ending_hand_rxp = re.compile(\"-- ending hand #(\\d) --\")\n",
    "\n",
    "# Hand Numbers\n",
    "curr_idx = 0\n",
    "while curr_idx < len(poker_log):\n",
    "    sliced = poker_log[curr_idx:]\n",
    "\n",
    "    # Find start index and end index of starting/ending hands\n",
    "    # Since the PokerNow Event Log has showdowns between the end of one hand and the start of the next, we must track\n",
    "    # both ending hand events and all events before the start of the next hand\n",
    "    start_and_end = sliced.entry.str.startswith('-- starting hand').nlargest(2)\n",
    "    # If there is no following\n",
    "\n",
    "    # Starting Hand\n",
    "    start_hand_idx = start_and_end.index.values[0]\n",
    "\n",
    "    # Ending Hand Index\n",
    "    end_hand_idx = sliced.entry.str.startswith('-- ending hand').idxmax()\n",
    "\n",
    "    # Next Starting Hand\n",
    "    if start_and_end.iloc[1]:\n",
    "        next_start_idx = start_and_end.index.values[1]\n",
    "    else:\n",
    "        next_start_idx = len(poker_log)\n",
    "    # Just before next starting hand\n",
    "    end_idx = next_start_idx - 1\n",
    "\n",
    "    street_slice = poker_log[start_hand_idx:end_idx+1]\n",
    "\n",
    "    if street_slice.entry.str.startswith('Flop:').any():\n",
    "        flop_idx = street_slice.entry.str.startswith('Flop:').idxmax()\n",
    "        poker_log.street.iloc[start_hand_idx:flop_idx] = 'preflop'\n",
    "        if street_slice.entry.str.startswith('Turn:').any():\n",
    "            turn_idx = street_slice.entry.str.startswith('Turn:').idxmax()\n",
    "            poker_log.street.iloc[flop_idx:turn_idx] = 'flop'\n",
    "            if street_slice.entry.str.startswith('River:').any():\n",
    "                river_idx = street_slice.entry.str.startswith('River:').idxmax()\n",
    "                poker_log.street.iloc[turn_idx:river_idx] = 'turn'\n",
    "                poker_log.street.iloc[river_idx:end_hand_idx+1] = 'river'\n",
    "                if end_idx != end_hand_idx:\n",
    "                    poker_log.street.iloc[end_hand_idx+1: end_idx+1] = 'showdown'\n",
    "            else:\n",
    "                poker_log.street.iloc[turn_idx:end_idx+1] = 'turn'\n",
    "        else:\n",
    "            poker_log.street.iloc[flop_idx:end_idx+1] = 'flop'\n",
    "    else:\n",
    "        # No flop, skip others\n",
    "        poker_log.street.iloc[start_hand_idx:end_idx+1] = 'preflop'\n",
    "\n",
    "    # Parse hand number using regular expression\n",
    "    start_match = re.match(starting_hand_rxp, sliced.entry[start_hand_idx])\n",
    "    # Hand number\n",
    "    hand_number = int(start_match.group(1))\n",
    "    # Set hand numbers\n",
    "    # If start of game or showdown occurred last hand, mark hand number appropriately\n",
    "    # Else mark hand number as it was parsed from the regexp\n",
    "    poker_log.hand_number.iloc[start_hand_idx:end_idx+1] = hand_number\n",
    "    curr_idx = next_start_idx"
   ]
  },
  {
   "cell_type": "code",
   "execution_count": null,
   "metadata": {
    "pycharm": {
     "name": "#%%\n"
    }
   },
   "outputs": [],
   "source": [
    "# poker_log = poker_log[~poker_log['entry'].astype(str).str.startswith('Player stacks: ')]\n",
    "\n",
    "poker_log = poker_log.assign(player_name='', player_id='', action='', value='')\n",
    "\n",
    "YOUR_HAND_MATCHER = re.compile(r'(?<=Your hand is ).*')\n",
    "SHOWS_HAND_MATCHER = re.compile(r'(?<=shows a ).*')\n",
    "\n",
    "SMALL_BLIND_MATCHER = re.compile('\\\"(.*)\\\" posts a small blind of (\\d+)(?=\\s|$)')\n",
    "BIG_BLIND_MATCHER = re.compile('\\\"(.*)\\\" posts a big blind of (\\d+)(?=\\s|$)')\n",
    "\n",
    "BETS_MATCHER = re.compile('\\\"(.*)\\\" bets (\\d+)[\\s\\w]*')\n",
    "RAISES_MATCHER = re.compile('\\\"(.*)\\\" raises to (\\d+)[\\s\\w]*')\n",
    "CALLS_MATCHER = re.compile('\\\"(.*)\\\" calls (\\d+)[\\s\\w]*')\n",
    "FOLDS_MATCHER = re.compile('\\\"(.*)\\\" folds$')\n",
    "CHECKS_MATCHER = re.compile('\\\"(.*)\\\" checks$')\n",
    "COLLECTED_MATCHER = re.compile('\\\"(.*)\\\" collected (\\d+) from pot')\n",
    "\n",
    "JOINED_MATCHER = re.compile('The player \\\"(.*?)\\\" joined the game with a stack of (\\d+)\\.')\n",
    "QUIT_MATCHER = re.compile('The player \\\"(.*?)\\\" quits the game with a stack of (\\d+)\\.')\n",
    "\n",
    "poker_log.player_name = poker_log.entry.str.extract(\"\\\"(.*?) @ .*?\\\".*\")\n",
    "poker_log.player_id = poker_log.entry.str.extract(\"\\\".*? @ (.*?)\\\".*\")\n",
    "poker_log.player_name.fillna('')\n",
    "poker_log.player_id.fillna('')\n",
    "def parse_action_value(entry):\n",
    "    if SMALL_BLIND_MATCHER.match(entry):\n",
    "        return 'small_blind', int(SMALL_BLIND_MATCHER.match(entry).group(2))\n",
    "    elif BIG_BLIND_MATCHER.match(entry):\n",
    "        return 'big_blind', int(BIG_BLIND_MATCHER.match(entry).group(2))\n",
    "    elif BETS_MATCHER.match(entry):\n",
    "        return 'bets', int(BETS_MATCHER.match(entry).group(2))\n",
    "    elif RAISES_MATCHER.match(entry):\n",
    "        return 'raises', int(RAISES_MATCHER.match(entry).group(2))\n",
    "    elif CALLS_MATCHER.match(entry):\n",
    "        return 'calls', int(CALLS_MATCHER.match(entry).group(2))\n",
    "    elif CHECKS_MATCHER.match(entry):\n",
    "        return 'checks', ''\n",
    "    elif FOLDS_MATCHER.match(entry):\n",
    "        return 'folds', ''\n",
    "    elif COLLECTED_MATCHER.match(entry):\n",
    "        return 'collected', int(COLLECTED_MATCHER.match(entry).group(2))\n",
    "    elif JOINED_MATCHER.match(entry):\n",
    "        return 'joined_with_stack', int(JOINED_MATCHER.match(entry).group(2))\n",
    "    elif QUIT_MATCHER.match(entry):\n",
    "        return 'quit_with_stack', int(QUIT_MATCHER.match(entry).group(2))\n",
    "    else:\n",
    "        return '', ''\n",
    "poker_log['action'],  poker_log['value'] = zip(*poker_log['entry'].apply(parse_action_value))"
   ]
  },
  {
   "cell_type": "code",
   "execution_count": null,
   "metadata": {
    "pycharm": {
     "name": "#%%\n"
    }
   },
   "outputs": [],
   "source": [
    "from numpy import nan\n",
    "from numpy import isnan\n",
    "\n",
    "player_action_value_df = poker_log.copy(deep=True)\n",
    "player_action_value_df.replace('', nan, inplace=True)\n",
    "player_action_value_df.action.replace('joined_with_stack', nan, inplace=True)\n",
    "player_action_value_df.dropna(subset=['action', 'value'], inplace=True)\n",
    "player_action_value_df.drop(columns='entry', inplace=True)\n",
    "\n",
    "\"\"\"\n",
    "First find the winner of the hand (whoever collected)\n",
    "Then create a dict with the names of the participants per street -> last wager in a street\n",
    "Merge each dict with the wagers on name\n",
    "Remove winning name from dictionary.\n",
    "For each hand, we'll have: a dictionary with everyone who lost money from a person\n",
    "cody: {antoine: 10, gautam: 10}\n",
    "row = cody, col = antoine, value\n",
    "\n",
    "create giant df\n",
    "for each hand_number\n",
    "    create dict\n",
    "    for each street:\n",
    "        reverse\n",
    "        for each row:\n",
    "            add player name to dict with value (max(timestamp)\n",
    "    add dict to giant df\n",
    "\"\"\"\n",
    "\n",
    "unique_players = poker_log.player_id.dropna().unique()\n",
    "unique_player_names = poker_log.player_name.dropna().unique()\n",
    "name_id_dict = dict(zip(unique_players, unique_player_names))\n",
    "total_money_won = DataFrame(columns=unique_players, index=unique_players)\n",
    "total_money_won.fillna(0)\n",
    "hand_groups = player_action_value_df.groupby('hand_number', sort=False)\n",
    "for hand_number, hand_group in hand_groups:\n",
    "    # Multiple winners if split pot\n",
    "    winners = set(hand_group[hand_group['action'] == 'collected'].player_id.values)\n",
    "    # print(f'Hand Number: {hand_number}, Winner: {winner_name}')\n",
    "    loser_dict: dict = {}\n",
    "    street_groups = hand_group.groupby('street')\n",
    "    for street, street_group in street_groups:\n",
    "        player_groups = street_group.groupby('player_id')\n",
    "        for player, player_group in player_groups:\n",
    "            if player not in winners:\n",
    "                # print(f'Player: {player}, Last Play: {player_group.tail(1).value.values[0]} in street: {street}')\n",
    "                last_play_value = player_group.tail(1).value.values[0]\n",
    "                if player in loser_dict:\n",
    "                    loser_dict[player] += last_play_value\n",
    "                else:\n",
    "                    loser_dict[player] = last_play_value\n",
    "    # print(f'Loser Dict: {loser_dict}')\n",
    "    for loser_name, value in loser_dict.items():\n",
    "        # print(f'Loser: {loser_name}, Total Lost: {value} in hand: {hand_number}')\n",
    "        # If split pot, divide by the number of winners\n",
    "        split_value = value / len(winners)\n",
    "        for winner_name in winners:\n",
    "            if not isnan(total_money_won.loc[winner_name, loser_name]):\n",
    "                total_money_won.loc[winner_name, loser_name] = total_money_won.loc[winner_name, loser_name] + split_value\n",
    "            else:\n",
    "                total_money_won.loc[winner_name, loser_name] = split_value\n",
    "# Ensure indexes and labels are in the same order\n",
    "total_money_won.sort_index(axis=0, inplace=True)\n",
    "total_money_won.sort_index(axis=1, inplace=True)\n",
    "total_money_won.fillna(0, inplace=True)\n",
    "\n",
    "\n",
    "total_money_difference = total_money_won.copy(deep=True)\n",
    "for i in range(0, len(total_money_won.columns)):\n",
    "    for j in range(0, len(total_money_won)):\n",
    "        # print(f'{i}, {j}')\n",
    "        total_money_difference.iloc[i, j] = total_money_won.iloc[i, j] - total_money_won.iloc[j, i]\n",
    "\n",
    "total_money_won.rename(columns=name_id_dict, index=name_id_dict, inplace=True)\n",
    "total_money_difference.rename(columns=name_id_dict, index=name_id_dict, inplace=True)\n"
   ]
  },
  {
   "cell_type": "markdown",
   "metadata": {},
   "source": [
    "## Total Cent Differential"
   ]
  },
  {
   "cell_type": "code",
   "execution_count": null,
   "metadata": {},
   "outputs": [],
   "source": [
    "total_money_difference"
   ]
  },
  {
   "cell_type": "markdown",
   "metadata": {
    "pycharm": {
     "name": "#%%\n"
    }
   },
   "source": [
    "## Total Cents Won"
   ]
  },
  {
   "cell_type": "code",
   "execution_count": null,
   "metadata": {},
   "outputs": [],
   "source": [
    "total_money_won"
   ]
  },
  {
   "cell_type": "code",
   "execution_count": null,
   "metadata": {},
   "outputs": [],
   "source": [
    "import plotly.express as px\n",
    "\n",
    "sot = poker_log[poker_log.entry.str.startswith('Player stacks:')].copy(deep=True)\n",
    "sot.drop(columns=['street', 'action', 'value'], inplace=True)\n",
    "joined_quit_log = poker_log[poker_log.action.eq('quit_with_stack') | poker_log.action.eq('joined_with_stack')].copy()\n",
    "joined_quit_log.drop(columns=['entry','street', 'action'], inplace=True)\n",
    "joined_quit_log.rename(columns={'value':'stack_size'},inplace=True)\n",
    "\n",
    "sot.entry = sot.entry.str.lstrip('Player stacks: ')\n",
    "sot = sot.assign(player_id='', stack_size=0)\n",
    "sot = sot.assign(split=sot.entry.str.split(' \\| ')).explode('split')\n",
    "STACK_MATCHER = re.compile('#(\\d+) \\\"(.*?) @ (.*?)\\\" \\((\\d+)\\)$')\n",
    "\n",
    "def parse_stack_size(entry):\n",
    "    match = STACK_MATCHER.match(entry)\n",
    "    return match.group(3), int(match.group(4))\n",
    "\n",
    "sot['player_id'], sot['stack_size'] = zip(*sot['split'].apply(parse_stack_size))\n",
    "\n",
    "sot.drop(columns=['entry', 'split'], inplace=True)\n",
    "sot = sot.append(joined_quit_log)\n",
    "sot.sort_values(by='at', axis=0, inplace=True)\n",
    "sot = sot.reset_index(drop=True)\n",
    "\n",
    "sot.player_name = sot.player_id.map(name_id_dict)"
   ]
  },
  {
   "cell_type": "code",
   "execution_count": null,
   "metadata": {},
   "outputs": [],
   "source": [
    "fig = px.line(sot, x=\"at\", y=\"stack_size\", color=\"player_name\", title ='''Stack Size by Hand''',\n",
    "        labels={'at':'Time','stack_size':'Chip Amount','player_name':'Player'}, hover_name='stack_size', hover_data=['stack_size'], width=1000, height=600)\n",
    "fig.update_layout(\n",
    "    title={\n",
    "        'y':0.9,\n",
    "        'x':0.5,\n",
    "         'xanchor': 'center',\n",
    "        })\n",
    "fig.update_traces(mode='markers+lines')\n",
    "fig.show()"
   ]
  },
  {
   "cell_type": "code",
   "execution_count": null,
   "metadata": {
    "scrolled": false
   },
   "outputs": [],
   "source": [
    "actions = poker_log[poker_log.action.eq('bets') | poker_log.action.eq('calls') | poker_log.action.eq('raises') | poker_log.action.eq('folds') | poker_log.action.eq('checks')].copy()\n",
    "\n",
    "actions.player_name = actions.player_id.map(name_id_dict)\n",
    "actions.drop(columns=['entry'], inplace=True)\n",
    "\n",
    "grouped_actions = actions.groupby(['player_name', 'action']).size().unstack()\n",
    "\n",
    "px.bar(grouped_actions, title='Total Action Count').show()\n"
   ]
  },
  {
   "cell_type": "code",
   "execution_count": null,
   "metadata": {},
   "outputs": [],
   "source": [
    "action_breakdown = grouped_actions.apply(lambda x: x/sum(x), axis=1)\n",
    "\n",
    "action_breakdown_bar_chart = px.bar(action_breakdown, title='Total Action Percentage Breakdown')\n",
    "action_breakdown_bar_chart.layout.yaxis.tickformat = ',.0%'\n",
    "action_breakdown_bar_chart.show()"
   ]
  },
  {
   "cell_type": "code",
   "execution_count": null,
   "metadata": {},
   "outputs": [],
   "source": [
    "raise_percent = grouped_actions.drop(columns=['folds']).apply(lambda x: x/sum(x), axis=1)\n",
    "\n",
    "raise_percent_bar_chart = px.bar(raise_percent.raises, title='# of Raises ÷ (# of Raises + # of Calls + # of Checks + # of Bets)')\n",
    "raise_percent_bar_chart.layout.yaxis.tickformat = ',.0%'\n",
    "raise_percent_bar_chart.show()"
   ]
  },
  {
   "cell_type": "code",
   "execution_count": null,
   "metadata": {},
   "outputs": [],
   "source": []
  }
 ],
 "metadata": {
  "kernelspec": {
   "display_name": "Python 3",
   "language": "python",
   "name": "python3"
  },
  "language_info": {
   "codemirror_mode": {
    "name": "ipython",
    "version": 3
   },
   "file_extension": ".py",
   "mimetype": "text/x-python",
   "name": "python",
   "nbconvert_exporter": "python",
   "pygments_lexer": "ipython3",
   "version": "3.8.5"
  }
 },
 "nbformat": 4,
 "nbformat_minor": 1
}
